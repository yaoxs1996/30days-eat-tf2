{
 "metadata": {
  "language_info": {
   "codemirror_mode": {
    "name": "ipython",
    "version": 3
   },
   "file_extension": ".py",
   "mimetype": "text/x-python",
   "name": "python",
   "nbconvert_exporter": "python",
   "pygments_lexer": "ipython3",
   "version": 3
  },
  "orig_nbformat": 2,
  "kernelspec": {
   "name": "python_defaultSpec_1597046379853",
   "display_name": "Python 3.7.7 64-bit ('yao': conda)"
  }
 },
 "nbformat": 4,
 "nbformat_minor": 2,
 "cells": [
  {
   "cell_type": "markdown",
   "metadata": {},
   "source": [
    "## day07\n",
    "2-3 自动微分机制"
   ]
  },
  {
   "cell_type": "code",
   "execution_count": 2,
   "metadata": {},
   "outputs": [],
   "source": [
    "import os\n",
    "os.environ[\"CUDA_VISIBLE_DEVICES\"]=\"-1\"     # 只使用CPU"
   ]
  },
  {
   "cell_type": "markdown",
   "metadata": {},
   "source": [
    "神经网络依赖反向传播求梯度来更新网络参数"
   ]
  },
  {
   "cell_type": "markdown",
   "metadata": {},
   "source": [
    "一、利用梯度磁带求导数"
   ]
  },
  {
   "cell_type": "code",
   "execution_count": 3,
   "metadata": {
    "tags": []
   },
   "outputs": [
    {
     "output_type": "stream",
     "name": "stdout",
     "text": "tf.Tensor(-2.0, shape=(), dtype=float32)\n"
    }
   ],
   "source": [
    "import tensorflow as tf\n",
    "import numpy as np\n",
    "\n",
    "# 求解 f(X) = a * x**2 + b * x + c的导数\n",
    "x = tf.Variable(0.0, name=\"x\", dtype=tf.float32)\n",
    "a = tf.constant(1.0)\n",
    "b = tf.constant(-2.0)\n",
    "c = tf.constant(1.0)\n",
    "\n",
    "with tf.GradientTape() as tape:\n",
    "    y = a * tf.pow(x, 2) + b * x + c\n",
    "\n",
    "dy_dx = tape.gradient(y, x)\n",
    "print(dy_dx)"
   ]
  },
  {
   "cell_type": "code",
   "execution_count": 4,
   "metadata": {
    "tags": []
   },
   "outputs": [
    {
     "output_type": "stream",
     "name": "stdout",
     "text": "tf.Tensor(0.0, shape=(), dtype=float32)\ntf.Tensor(1.0, shape=(), dtype=float32)\n"
    }
   ],
   "source": [
    "# 对常数张量求导，增加watch\n",
    "with tf.GradientTape() as tape:\n",
    "    tape.watch([a, b, c])\n",
    "    y = a * tf.pow(x, 2) + b * x + c\n",
    "\n",
    "dy_dx, dy_da, dy_db, dy_dc = tape.gradient(y, [x, a, b, c])\n",
    "print(dy_da)\n",
    "print(dy_dc)"
   ]
  },
  {
   "cell_type": "code",
   "execution_count": 6,
   "metadata": {
    "tags": []
   },
   "outputs": [
    {
     "output_type": "stream",
     "name": "stdout",
     "text": "tf.Tensor(2.0, shape=(), dtype=float32)\n"
    }
   ],
   "source": [
    "# 求二阶导\n",
    "with tf.GradientTape() as tape2:\n",
    "    with tf.GradientTape() as tape1:\n",
    "        y = a * tf.pow(x, 2) + b * x + c\n",
    "    dy_dx = tape1.gradient(y, x)\n",
    "dy2_dx2 = tape2.gradient(dy_dx, x)\n",
    "\n",
    "print(dy2_dx2)"
   ]
  },
  {
   "cell_type": "code",
   "execution_count": 7,
   "metadata": {
    "tags": []
   },
   "outputs": [
    {
     "output_type": "stream",
     "name": "stdout",
     "text": "(-2, 1)\n(0, 0)\n"
    }
   ],
   "source": [
    "# 在autograph中使用\n",
    "@tf.function\n",
    "def f(x):\n",
    "    a = tf.constant(1.0)\n",
    "    b = tf.constant(-2.0)\n",
    "    c = tf.constant(1.0)\n",
    "\n",
    "    x = tf.cast(x, tf.float32)\n",
    "    with tf.GradientTape() as tape:\n",
    "        tape.watch(x)\n",
    "        y = a * tf.pow(x, 2) + b * x + c\n",
    "    dy_dx = tape.gradient(y, x)\n",
    "\n",
    "    return ((dy_dx, y))\n",
    "\n",
    "tf.print(f(tf.constant(0.0)))\n",
    "tf.print(f(tf.constant(1.0)))"
   ]
  },
  {
   "cell_type": "markdown",
   "metadata": {},
   "source": [
    "二、利用梯度磁带和优化器求最小值"
   ]
  },
  {
   "cell_type": "code",
   "execution_count": 8,
   "metadata": {
    "tags": []
   },
   "outputs": [
    {
     "output_type": "stream",
     "name": "stdout",
     "text": "y =  0 ; x =  0.999998569\n"
    }
   ],
   "source": [
    "# 求 f(x) = a * x**2 + b * x + c的最小值\n",
    "# 使用optimizer.apply_gradients\n",
    "x = tf.Variable(0.0, name=\"x\", dtype=tf.float32)\n",
    "a = tf.constant(1.0)\n",
    "b = tf.constant(-2.0)\n",
    "c = tf.constant(1.0)\n",
    "\n",
    "optimizer = tf.keras.optimizers.SGD(learning_rate=0.01)\n",
    "for _ in range(1000):\n",
    "    with tf.GradientTape() as tape:\n",
    "        y = a * tf.pow(x, 2) + b * x + c\n",
    "    dy_dx = tape.gradient(y, x)\n",
    "    optimizer.apply_gradients(grads_and_vars=[(dy_dx, x)])\n",
    "\n",
    "tf.print(\"y = \", y,\"; x = \", x)"
   ]
  },
  {
   "cell_type": "code",
   "execution_count": 9,
   "metadata": {
    "tags": []
   },
   "outputs": [
    {
     "output_type": "stream",
     "name": "stdout",
     "text": "y =  0 ; x =  0.999998569\n"
    }
   ],
   "source": [
    "# 求解 f(x) = a * x**2 + b * x + c的最小值\n",
    "# 使用optimizer.minimize\n",
    "# 相当于先用tape求gradient，再apply_gradient\n",
    "x = tf.Variable(0.0, name=\"x\", dtype=tf.float32)\n",
    "\n",
    "def f():\n",
    "    a = tf.constant(1.0)\n",
    "    b = tf.constant(-2.0)\n",
    "    c = tf.constant(1.0)\n",
    "    y = a * tf.pow(x, 2) + b * x + c\n",
    "    return (y)\n",
    "\n",
    "optimizer = tf.keras.optimizers.SGD(learning_rate=0.01)\n",
    "for _ in range(1000):\n",
    "    optimizer.minimize(f, [x])\n",
    "\n",
    "tf.print(\"y = \", f(), \"; x = \", x)"
   ]
  },
  {
   "cell_type": "code",
   "execution_count": 12,
   "metadata": {
    "tags": []
   },
   "outputs": [
    {
     "output_type": "stream",
     "name": "stdout",
     "text": "0\n0.999998569\n"
    }
   ],
   "source": [
    "# 在autograph中完成最小值求解\n",
    "x = tf.Variable(0.0, name=\"x\", dtype=tf.float32)\n",
    "optimizer = tf.keras.optimizers.SGD(learning_rate=0.01)\n",
    "\n",
    "@tf.function\n",
    "def minimizef():\n",
    "    a = tf.constant(1.0)\n",
    "    b = tf.constant(-2.0)\n",
    "    c = tf.constant(1.0)\n",
    "\n",
    "    for _ in tf.range(1000):        # autograph需要使用tf.range()\n",
    "        with tf.GradientTape() as tape:\n",
    "            y = a * tf.pow(x, 2) + b * x + c\n",
    "        dy_dx = tape.gradient(y, x)\n",
    "        optimizer.apply_gradients(grads_and_vars=[(dy_dx, x)])\n",
    "\n",
    "    y = a * tf.pow(x, 2) + b * x + c\n",
    "    return y\n",
    "\n",
    "tf.print(minimizef())\n",
    "tf.print(x)"
   ]
  },
  {
   "cell_type": "code",
   "execution_count": 13,
   "metadata": {
    "tags": []
   },
   "outputs": [
    {
     "output_type": "stream",
     "name": "stdout",
     "text": "0\n0.999998569\n"
    }
   ],
   "source": [
    "x = tf.Variable(0.0, name=\"x\", dtype=tf.float32)\n",
    "optimizer = tf.keras.optimizers.SGD(learning_rate=0.01)\n",
    "\n",
    "@tf.function\n",
    "def f():\n",
    "    a = tf.constant(1.0)\n",
    "    b = tf.constant(-2.0)\n",
    "    c = tf.constant(1.0)\n",
    "    y = a * tf.pow(x, 2) + b * x + c\n",
    "    return (y)\n",
    "\n",
    "@tf.function\n",
    "def train(epoch):\n",
    "    for _ in tf.range(epoch):\n",
    "        optimizer.minimize(f, [x])\n",
    "    return (f())\n",
    "\n",
    "tf.print(train(1000))\n",
    "tf.print(x)"
   ]
  },
  {
   "cell_type": "code",
   "execution_count": null,
   "metadata": {},
   "outputs": [],
   "source": []
  }
 ]
}