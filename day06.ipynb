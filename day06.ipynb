{
 "metadata": {
  "language_info": {
   "codemirror_mode": {
    "name": "ipython",
    "version": 3
   },
   "file_extension": ".py",
   "mimetype": "text/x-python",
   "name": "python",
   "nbconvert_exporter": "python",
   "pygments_lexer": "ipython3",
   "version": 3
  },
  "orig_nbformat": 2,
  "kernelspec": {
   "name": "python_defaultSpec_1596438156833",
   "display_name": "Python 3.7.7 64-bit"
  }
 },
 "nbformat": 4,
 "nbformat_minor": 2,
 "cells": [
  {
   "cell_type": "markdown",
   "metadata": {},
   "source": [
    "## 2-2 三种计算图\n",
    "day06"
   ]
  },
  {
   "cell_type": "markdown",
   "metadata": {},
   "source": [
    "* 静态计算图、动态计算图以及Autograph\n",
    "* tf2中可以使用装饰器@tf.function将普通函数转换成对应的TF计算图构建代码，这种方式称为Autograph"
   ]
  },
  {
   "cell_type": "markdown",
   "metadata": {},
   "source": [
    "一、计算图简介"
   ]
  },
  {
   "cell_type": "markdown",
   "metadata": {},
   "source": [
    "二、静态计算图"
   ]
  },
  {
   "cell_type": "code",
   "execution_count": 1,
   "metadata": {
    "tags": []
   },
   "outputs": [
    {
     "output_type": "stream",
     "name": "stdout",
     "text": "b'hello world'\n"
    }
   ],
   "source": [
    "# tf2中使用静态计算图（不推荐使用）\n",
    "import tensorflow as tf\n",
    "\n",
    "g = tf.compat.v1.Graph()\n",
    "with g.as_default():\n",
    "    x = tf.compat.v1.placeholder(name=\"x\", shape=[], dtype=tf.string)\n",
    "    y = tf.compat.v1.placeholder(name=\"y\", shape=[], dtype=tf.string)\n",
    "    z = tf.strings.join([x, y], name=\"join\", separator=\" \")\n",
    "\n",
    "with tf.compat.v1.Session(graph=g) as sess:\n",
    "    result = sess.run(fetches=z, feed_dict={x: \"hello\", y: \"world\"})\n",
    "    print(result)"
   ]
  },
  {
   "cell_type": "markdown",
   "metadata": {},
   "source": [
    "三、动态计算图"
   ]
  },
  {
   "cell_type": "code",
   "execution_count": 2,
   "metadata": {
    "tags": []
   },
   "outputs": [
    {
     "output_type": "stream",
     "name": "stdout",
     "text": "hello world\n"
    }
   ],
   "source": [
    "# 动态计算图在每个算子处都进行构建，构建后立即执行\n",
    "\n",
    "x = tf.constant(\"hello\")\n",
    "y = tf.constant(\"world\")\n",
    "z = tf.strings.join([x, y], separator=\" \")\n",
    "\n",
    "tf.print(z)"
   ]
  },
  {
   "cell_type": "code",
   "execution_count": 3,
   "metadata": {
    "tags": []
   },
   "outputs": [
    {
     "output_type": "stream",
     "name": "stdout",
     "text": "hello world\ntf.Tensor(b'hello world', shape=(), dtype=string)\n"
    }
   ],
   "source": [
    "# 动态计算图代码的输入输出封装成代码\n",
    "\n",
    "def strjoin(x, y):\n",
    "    z = tf.strings.join([x, y], separator=\" \")\n",
    "    tf.print(z)\n",
    "    return z\n",
    "\n",
    "result = strjoin(tf.constant(\"hello\"), tf.constant(\"world\"))\n",
    "print(result)"
   ]
  },
  {
   "cell_type": "markdown",
   "metadata": {},
   "source": [
    "四、TensorFlow2.0的Autograph"
   ]
  },
  {
   "cell_type": "code",
   "execution_count": 4,
   "metadata": {
    "tags": []
   },
   "outputs": [
    {
     "output_type": "stream",
     "name": "stdout",
     "text": "hello world\ntf.Tensor(b'hello world', shape=(), dtype=string)\n"
    }
   ],
   "source": [
    "import tensorflow as tf\n",
    "\n",
    "@tf.function\n",
    "def strjoin(x, y):\n",
    "    z = tf.strings.join([x, y], separator=\" \")\n",
    "    tf.print(z)\n",
    "    return z\n",
    "\n",
    "result = strjoin(tf.constant(\"hello\"), tf.constant(\"world\"))\n",
    "print(result)"
   ]
  },
  {
   "cell_type": "code",
   "execution_count": null,
   "metadata": {},
   "outputs": [],
   "source": []
  }
 ]
}