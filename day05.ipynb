{
 "metadata": {
  "language_info": {
   "codemirror_mode": {
    "name": "ipython",
    "version": 3
   },
   "file_extension": ".py",
   "mimetype": "text/x-python",
   "name": "python",
   "nbconvert_exporter": "python",
   "pygments_lexer": "ipython3",
   "version": 3
  },
  "orig_nbformat": 2,
  "kernelspec": {
   "name": "python_defaultSpec_1596090462335",
   "display_name": "Python 3.7.7 64-bit ('yao': conda)"
  }
 },
 "nbformat": 4,
 "nbformat_minor": 2,
 "cells": [
  {
   "cell_type": "markdown",
   "metadata": {},
   "source": [
    "## 二、TenserFlow的核心概念\n",
    "\n",
    "### 2-1 张量数据结构"
   ]
  },
  {
   "cell_type": "markdown",
   "metadata": {},
   "source": [
    "一、常量张量"
   ]
  },
  {
   "cell_type": "code",
   "execution_count": 1,
   "metadata": {
    "tags": []
   },
   "outputs": [
    {
     "output_type": "stream",
     "name": "stdout",
     "text": "True\nTrue\nTrue\nFalse\n"
    }
   ],
   "source": [
    "import numpy as np\n",
    "import tensorflow as tf\n",
    "\n",
    "i = tf.constant(1)\n",
    "l = tf.constant(1, dtype=tf.int64)\n",
    "f = tf.constant(1.23)\n",
    "d = tf.constant(3.14, dtype=tf.double)\n",
    "s = tf.constant(\"hello world\")\n",
    "b = tf.constant(True)\n",
    "\n",
    "print(tf.int64 == np.int64)\n",
    "print(tf.bool == np.bool)\n",
    "print(tf.double == np.float64)\n",
    "print(tf.string == np.unicode)"
   ]
  },
  {
   "cell_type": "code",
   "execution_count": 2,
   "metadata": {
    "tags": []
   },
   "outputs": [
    {
     "output_type": "stream",
     "name": "stdout",
     "text": "tf.Tensor(0, shape=(), dtype=int32)\n0\n"
    }
   ],
   "source": [
    "# 标量为0维（rank）张量，向量为1维张量，矩阵为2维张量\n",
    "scalar = tf.constant(True)\n",
    "\n",
    "print(tf.rank(scalar))\n",
    "print(scalar.numpy().ndim)"
   ]
  },
  {
   "cell_type": "code",
   "execution_count": 3,
   "metadata": {
    "tags": []
   },
   "outputs": [
    {
     "output_type": "stream",
     "name": "stdout",
     "text": "tf.Tensor(1, shape=(), dtype=int32)\n1\n"
    }
   ],
   "source": [
    "vector = tf.constant([1.0, 2.0, 3.0, 4.0])\n",
    "\n",
    "print(tf.rank(vector))\n",
    "print(np.ndim(vector.numpy()))"
   ]
  },
  {
   "cell_type": "code",
   "execution_count": 4,
   "metadata": {
    "tags": []
   },
   "outputs": [
    {
     "output_type": "stream",
     "name": "stdout",
     "text": "2\n2\n"
    }
   ],
   "source": [
    "matrix = tf.constant([[1.0, 2.0], [3.0, 4.0]])\n",
    "\n",
    "print(tf.rank(matrix).numpy())\n",
    "print(np.ndim(matrix))"
   ]
  },
  {
   "cell_type": "code",
   "execution_count": 6,
   "metadata": {
    "tags": []
   },
   "outputs": [
    {
     "output_type": "stream",
     "name": "stdout",
     "text": "tf.Tensor(\n[[[1. 2.]\n  [3. 4.]]\n\n [[5. 6.]\n  [7. 8.]]], shape=(2, 2, 2), dtype=float32)\ntf.Tensor(3, shape=(), dtype=int32)\n"
    }
   ],
   "source": [
    "tensor3 = tf.constant([[[1.0, 2.0], [3.0, 4.0]], [[5.0, 6.0], [7.0, 8.0]]])\n",
    "print(tensor3)\n",
    "print(tf.rank(tensor3))"
   ]
  },
  {
   "cell_type": "code",
   "execution_count": 8,
   "metadata": {
    "tags": []
   },
   "outputs": [
    {
     "output_type": "stream",
     "name": "stdout",
     "text": "tf.Tensor(\n[[[[1. 1.]\n   [2. 2.]]\n\n  [[3. 3.]\n   [4. 4.]]]\n\n\n [[[5. 5.]\n   [6. 6.]]\n\n  [[7. 7.]\n   [8. 8.]]]], shape=(2, 2, 2, 2), dtype=float32)\ntf.Tensor(4, shape=(), dtype=int32)\n"
    }
   ],
   "source": [
    "tensor4 = tf.constant([[[[1.0, 1.0], [2.0, 2.0]], [[3.0, 3.0], [4.0, 4.0]]],\n",
    "    [[[5.0, 5.0], [6.0, 6.0]], [[7.0, 7.0], [8.0, 8.0]]]])\n",
    "print(tensor4)\n",
    "print(tf.rank(tensor4))"
   ]
  },
  {
   "cell_type": "code",
   "execution_count": 9,
   "metadata": {
    "tags": []
   },
   "outputs": [
    {
     "output_type": "stream",
     "name": "stdout",
     "text": "<dtype: 'int32'> <dtype: 'float32'>\n"
    }
   ],
   "source": [
    "# tf.cast改变张量的数据类型\n",
    "# numpy方法将TensorFlow张量转化成numpy张量\n",
    "# shape查看尺寸\n",
    "h = tf.constant([123, 456], dtype=tf.int32)\n",
    "f = tf.cast(h, tf.float32)\n",
    "print(h.dtype, f.dtype)"
   ]
  },
  {
   "cell_type": "code",
   "execution_count": 10,
   "metadata": {
    "tags": []
   },
   "outputs": [
    {
     "output_type": "stream",
     "name": "stdout",
     "text": "[[1. 2.]\n [3. 4.]]\n(2, 2)\n"
    }
   ],
   "source": [
    "y = tf.constant([[1.0, 2.0], [3.0, 4.0]])\n",
    "print(y.numpy())\n",
    "print(y.shape)"
   ]
  },
  {
   "cell_type": "code",
   "execution_count": 11,
   "metadata": {
    "tags": []
   },
   "outputs": [
    {
     "output_type": "stream",
     "name": "stdout",
     "text": "b'\\xe4\\xbd\\xa0\\xe5\\xa5\\xbd \\xe4\\xb8\\x96\\xe7\\x95\\x8c'\n你好 世界\n"
    }
   ],
   "source": [
    "u = tf.constant(u\"你好 世界\")\n",
    "print(u.numpy())\n",
    "print(u.numpy().decode(\"utf-8\"))"
   ]
  },
  {
   "cell_type": "markdown",
   "metadata": {},
   "source": [
    "二、变量张量"
   ]
  },
  {
   "cell_type": "code",
   "execution_count": 12,
   "metadata": {
    "tags": []
   },
   "outputs": [
    {
     "output_type": "stream",
     "name": "stdout",
     "text": "tf.Tensor([1. 2.], shape=(2,), dtype=float32)\n139911587568112\ntf.Tensor([2. 3.], shape=(2,), dtype=float32)\n139911587566176\n"
    }
   ],
   "source": [
    "# 常量值不可以改变，常量的重新赋值相当于创造新的内存空间\n",
    "c = tf.constant([1.0, 2.0])\n",
    "print(c)\n",
    "print(id(c))\n",
    "c = c + tf.constant([1.0, 1.0])\n",
    "print(c)\n",
    "print(id(c))"
   ]
  },
  {
   "cell_type": "code",
   "execution_count": 13,
   "metadata": {
    "tags": []
   },
   "outputs": [
    {
     "output_type": "stream",
     "name": "stdout",
     "text": "<tf.Variable 'v:0' shape=(2,) dtype=float32, numpy=array([1., 2.], dtype=float32)>\n139914534360784\n<tf.Variable 'v:0' shape=(2,) dtype=float32, numpy=array([2., 3.], dtype=float32)>\n139914534360784\n"
    }
   ],
   "source": [
    "v = tf.Variable([1.0, 2.0], name=\"v\")\n",
    "print(v)\n",
    "print(id(v))\n",
    "v.assign_add([1.0, 1.0])\n",
    "print(v)\n",
    "print(id(v))"
   ]
  },
  {
   "cell_type": "code",
   "execution_count": null,
   "metadata": {},
   "outputs": [],
   "source": []
  }
 ]
}